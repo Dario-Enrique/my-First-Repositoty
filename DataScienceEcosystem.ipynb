{
 "cells": [
  {
   "cell_type": "markdown",
   "id": "150dd739",
   "metadata": {},
   "source": [
    "# Data Science Tools and Ecosystem "
   ]
  },
  {
   "cell_type": "markdown",
   "id": "56fb0c30",
   "metadata": {},
   "source": [
    "This is the introduction of Tools for Data Science."
   ]
  },
  {
   "cell_type": "markdown",
   "id": "df0781e4",
   "metadata": {},
   "source": [
    "**Objectives:**\n",
    "* Listing most used languahes in data science\n",
    "* Depicting in a table three popular Open Source libraries for Data Science\n",
    "* Representing arithmetic expressions\n",
    "* Listin unordered objectives \n",
    "* Using featuresnof text such as bold front and H style \n"
   ]
  },
  {
   "cell_type": "markdown",
   "id": "e8bc60ab",
   "metadata": {},
   "source": [
    "This are some of the most used languages in data science.\n",
    "1. Python\n",
    "2. R \n",
    "3. SQL"
   ]
  },
  {
   "cell_type": "markdown",
   "id": "99006cb8",
   "metadata": {},
   "source": [
    "Some of the most popular Open Source libaries for Data Science are:  \n",
    "\n",
    "1. NumPy\n",
    "2. Pandas\n",
    "3. dplyr\n"
   ]
  },
  {
   "cell_type": "markdown",
   "id": "da2c268e",
   "metadata": {},
   "source": [
    "| Data Science Tools |\n",
    "| ---- |\n",
    "| Jupyter |\n",
    "| R Studio |\n",
    "|Apache Zeppeling |"
   ]
  },
  {
   "cell_type": "markdown",
   "id": "6b69460c",
   "metadata": {},
   "source": [
    "### These are some examples of arthmetic expressions using Python.\n"
   ]
  },
  {
   "cell_type": "code",
   "execution_count": 4,
   "id": "fa36415f",
   "metadata": {},
   "outputs": [
    {
     "data": {
      "text/plain": [
       "17"
      ]
     },
     "execution_count": 4,
     "metadata": {},
     "output_type": "execute_result"
    }
   ],
   "source": [
    "#This is an  arithmetic expression to mutiply and add integers\n",
    "\n",
    "(3*4)+5\n"
   ]
  },
  {
   "cell_type": "code",
   "execution_count": 13,
   "id": "7cd7c649",
   "metadata": {},
   "outputs": [
    {
     "name": "stdout",
     "output_type": "stream",
     "text": [
      "3.3333333333333335\n"
     ]
    }
   ],
   "source": [
    "#This will convert 200 minutes to hours by diving by 60\n",
    "\n",
    "Hours = 200 / 60\n",
    "print(Hours)\n",
    "\n"
   ]
  },
  {
   "cell_type": "markdown",
   "id": "a54f5249",
   "metadata": {},
   "source": [
    "## Author ##  \n",
    "Dario Enrique Piraban "
   ]
  }
 ],
 "metadata": {
  "kernelspec": {
   "display_name": "Python 3 (ipykernel)",
   "language": "python",
   "name": "python3"
  },
  "language_info": {
   "codemirror_mode": {
    "name": "ipython",
    "version": 3
   },
   "file_extension": ".py",
   "mimetype": "text/x-python",
   "name": "python",
   "nbconvert_exporter": "python",
   "pygments_lexer": "ipython3",
   "version": "3.10.10"
  }
 },
 "nbformat": 4,
 "nbformat_minor": 5
}
